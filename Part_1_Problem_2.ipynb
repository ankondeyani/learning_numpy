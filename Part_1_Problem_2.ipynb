{
  "nbformat": 4,
  "nbformat_minor": 0,
  "metadata": {
    "colab": {
      "provenance": []
    },
    "kernelspec": {
      "name": "python3",
      "display_name": "Python 3"
    },
    "language_info": {
      "name": "python"
    }
  },
  "cells": [
    {
      "cell_type": "markdown",
      "source": [
        "[![PracticeProbs](https://d33wubrfki0l68.cloudfront.net/b6800cc830e3fd5a3a4c3d9cfb1137e6a4c15c77/ec467/assets/images/transparent-1.png)](https://www.practiceprobs.com/)"
      ],
      "metadata": {
        "id": "t1VEtnSjbu-d"
      }
    },
    {
      "cell_type": "markdown",
      "source": [
        "# [Nola](https://www.practiceprobs.com/problemsets/python-numpy/beginner/nola/)\n",
        "\n",
        "Make the following 4x7 array called nola that starts with 1 and steps by 2. However, note that the first element in each row is always 4 more than the last element in the previous row.\n",
        "\n",
        "```\n",
        "# nola\n",
        "[[ 1  3  5  7  9 11 13]\n",
        " [17 19 21 23 25 27 29]\n",
        " [33 35 37 39 41 43 45]\n",
        " [49 51 53 55 57 59 61]]\n",
        "```"
      ],
      "metadata": {
        "id": "M6yShpelZy-I"
      }
    },
    {
      "cell_type": "markdown",
      "source": [
        "---"
      ],
      "metadata": {
        "id": "h7D8d-J5cela"
      }
    },
    {
      "cell_type": "code",
      "source": [
        "import numpy as np\n",
        "arr=np.full((4,7),1)\n",
        "print(arr)\n",
        "for i in range(4):\n",
        "    if i!=0:\n",
        "      arr[i,]=np.arange(arr[i-1,6]+4,arr[i-1,6]+17,2)\n",
        "    elif i==0:\n",
        "      arr[i,]=np.arange(arr[i][0],arr[i][0]+13,2)\n",
        "print(arr)\n"
      ],
      "metadata": {
        "id": "CWwTWfYCa4k0",
        "outputId": "197894b6-8089-461a-84c3-61b7e4892b92",
        "colab": {
          "base_uri": "https://localhost:8080/"
        }
      },
      "execution_count": null,
      "outputs": [
        {
          "output_type": "stream",
          "name": "stdout",
          "text": [
            "[[1 1 1 1 1 1 1]\n",
            " [1 1 1 1 1 1 1]\n",
            " [1 1 1 1 1 1 1]\n",
            " [1 1 1 1 1 1 1]]\n",
            "[[ 1  3  5  7  9 11 13]\n",
            " [17 19 21 23 25 27 29]\n",
            " [33 35 37 39 41 43 45]\n",
            " [49 51 53 55 57 59 61]]\n"
          ]
        }
      ]
    },
    {
      "cell_type": "markdown",
      "source": [
        "**Heavy numpy used clean solution!**\n",
        "\n",
        "This is beautiful, and smart!\n",
        "\n",
        "Just two lines, no manual looping!"
      ],
      "metadata": {
        "id": "L7mfg61UY_wP"
      }
    },
    {
      "cell_type": "code",
      "source": [
        "#First create a 4x8 array from 1 to 63 with step 2, and the array without the last column is our desired one!\n",
        "#Use the reshape tool to arrange them in arrays of 4 rows and 8 columns\n",
        "nola = np.reshape(np.arange(start=1, stop=65, step=2), (4,8))\n",
        "\n",
        "#Select everything except the last column\n",
        "nola = nola[:, :-1]\n",
        "\n",
        "print(nola)\n"
      ],
      "metadata": {
        "id": "5VTyhGeCZEJq",
        "outputId": "65c66f61-ba82-481b-ea85-ed60d9e547c1",
        "colab": {
          "base_uri": "https://localhost:8080/"
        }
      },
      "execution_count": null,
      "outputs": [
        {
          "output_type": "stream",
          "name": "stdout",
          "text": [
            "[[ 1  3  5  7  9 11 13]\n",
            " [17 19 21 23 25 27 29]\n",
            " [33 35 37 39 41 43 45]\n",
            " [49 51 53 55 57 59 61]]\n"
          ]
        }
      ]
    }
  ]
}