{
  "nbformat": 4,
  "nbformat_minor": 0,
  "metadata": {
    "colab": {
      "provenance": []
    },
    "kernelspec": {
      "name": "python3",
      "display_name": "Python 3"
    },
    "language_info": {
      "name": "python"
    }
  },
  "cells": [
    {
      "cell_type": "markdown",
      "source": [
        "# **Beginner Numpy Notebook**\n",
        "\n",
        "While I was learning Numpy, I decided to create a notebook for me. Here is it!\n",
        "\n",
        "Numpy Array = Python list, but!!:\n",
        "\n",
        "\n",
        "*   arrays - faster\n",
        "*   lists can store mixed types (e.g. ints and floats). The data in an array must be of the same type (e.g. ints or floats but not both).\n",
        "\n",
        "**Making 1-D Array**"
      ],
      "metadata": {
        "id": "wH8Bc8Eg7Efi"
      }
    },
    {
      "cell_type": "code",
      "source": [
        "import numpy as np\n",
        "\n",
        "array = np.array([10,20,30,40])"
      ],
      "metadata": {
        "id": "DGvwEep88HBx"
      },
      "execution_count": 3,
      "outputs": []
    },
    {
      "cell_type": "markdown",
      "source": [
        "**Printing Array**"
      ],
      "metadata": {
        "id": "Nv048ylW8Rpg"
      }
    },
    {
      "cell_type": "code",
      "source": [
        "print(array)"
      ],
      "metadata": {
        "colab": {
          "base_uri": "https://localhost:8080/"
        },
        "id": "R2QTc5BT8X0Z",
        "outputId": "05f30a68-04d6-41be-db21-0f0f79bf3081"
      },
      "execution_count": 4,
      "outputs": [
        {
          "output_type": "stream",
          "name": "stdout",
          "text": [
            "[10 20 30 40]\n"
          ]
        }
      ]
    },
    {
      "cell_type": "markdown",
      "source": [
        "**Checking Dimensionality**\n",
        "\n",
        "More like checking whether it is a 1D, 2D or nD array"
      ],
      "metadata": {
        "id": "rj2ZnoQZ8awa"
      }
    },
    {
      "cell_type": "code",
      "source": [
        "print(array.ndim)"
      ],
      "metadata": {
        "colab": {
          "base_uri": "https://localhost:8080/"
        },
        "id": "nD90yeoF8uLC",
        "outputId": "7d777e4f-e52a-4556-f72c-a7ba44cebd82"
      },
      "execution_count": 5,
      "outputs": [
        {
          "output_type": "stream",
          "name": "stdout",
          "text": [
            "1\n"
          ]
        }
      ]
    },
    {
      "cell_type": "markdown",
      "source": [
        "**Checking Shape**"
      ],
      "metadata": {
        "id": "ZCduyqvZ8x0M"
      }
    },
    {
      "cell_type": "code",
      "source": [
        "print(array.shape)"
      ],
      "metadata": {
        "colab": {
          "base_uri": "https://localhost:8080/"
        },
        "id": "0f2ew3J583Zu",
        "outputId": "e225415b-9667-4301-82a4-aef7f3c11672"
      },
      "execution_count": 6,
      "outputs": [
        {
          "output_type": "stream",
          "name": "stdout",
          "text": [
            "(4,)\n"
          ]
        }
      ]
    },
    {
      "cell_type": "markdown",
      "source": [
        "**Checking how many elements are there**"
      ],
      "metadata": {
        "id": "vS2isnkn866g"
      }
    },
    {
      "cell_type": "code",
      "source": [
        "print(len(array))"
      ],
      "metadata": {
        "colab": {
          "base_uri": "https://localhost:8080/"
        },
        "id": "493O5Dio8_BD",
        "outputId": "443b0edc-5319-4b8a-a9d1-5086a2f8a425"
      },
      "execution_count": 7,
      "outputs": [
        {
          "output_type": "stream",
          "name": "stdout",
          "text": [
            "4\n"
          ]
        }
      ]
    },
    {
      "cell_type": "markdown",
      "source": [
        "**Making 2D array**\n",
        "\n",
        "2D array is also formable by list of lists."
      ],
      "metadata": {
        "id": "CkjR3ZHb9G7Z"
      }
    },
    {
      "cell_type": "code",
      "source": [
        "array_2d=np.array([[10,20,30,40],[15,25,35,45],['a','b','c','d']])\n",
        "array_2d2=np.array([[10,20,30,40],[15,25,35,45]])"
      ],
      "metadata": {
        "id": "QxiF1IlR9PjZ"
      },
      "execution_count": 8,
      "outputs": []
    },
    {
      "cell_type": "markdown",
      "source": [
        "**Checking Dimensionality**"
      ],
      "metadata": {
        "id": "DB2A6DIz9y1J"
      }
    },
    {
      "cell_type": "code",
      "source": [
        "print(array_2d.ndim)\n",
        "print(array_2d2.ndim)"
      ],
      "metadata": {
        "colab": {
          "base_uri": "https://localhost:8080/"
        },
        "id": "tFiSph0494Bn",
        "outputId": "0a55b392-6617-4c30-ef2b-da3cf8a91641"
      },
      "execution_count": 9,
      "outputs": [
        {
          "output_type": "stream",
          "name": "stdout",
          "text": [
            "2\n",
            "2\n"
          ]
        }
      ]
    },
    {
      "cell_type": "markdown",
      "source": [
        "**Checking shape**"
      ],
      "metadata": {
        "id": "v6pcrA2x-Hl8"
      }
    },
    {
      "cell_type": "code",
      "source": [
        "print(array_2d.shape)\n",
        "print(array_2d2.shape)"
      ],
      "metadata": {
        "colab": {
          "base_uri": "https://localhost:8080/"
        },
        "id": "pTEQ5sf6-MdZ",
        "outputId": "a3e7e5a6-d5ea-4daf-87bb-3db23c079d85"
      },
      "execution_count": 10,
      "outputs": [
        {
          "output_type": "stream",
          "name": "stdout",
          "text": [
            "(3, 4)\n",
            "(2, 4)\n"
          ]
        }
      ]
    },
    {
      "cell_type": "markdown",
      "source": [
        "**Checking length**"
      ],
      "metadata": {
        "id": "MwoO4hIg-Wy9"
      }
    },
    {
      "cell_type": "code",
      "source": [
        "print(len(array_2d))\n",
        "print(len(array_2d2))"
      ],
      "metadata": {
        "colab": {
          "base_uri": "https://localhost:8080/"
        },
        "id": "m6eyv-54-Zd2",
        "outputId": "ebf3c1ac-44ff-46e1-85fe-aea119f47510"
      },
      "execution_count": 11,
      "outputs": [
        {
          "output_type": "stream",
          "name": "stdout",
          "text": [
            "3\n",
            "2\n"
          ]
        }
      ]
    },
    {
      "cell_type": "markdown",
      "source": [
        "**Checking total element number**"
      ],
      "metadata": {
        "id": "3o5QP6cn-es9"
      }
    },
    {
      "cell_type": "code",
      "source": [
        "print(array_2d.size)\n",
        "print(array_2d2.size)"
      ],
      "metadata": {
        "colab": {
          "base_uri": "https://localhost:8080/"
        },
        "id": "_xK4WMiY-i_g",
        "outputId": "c99fc4c9-5469-43a7-fd3b-2ef6b985b842"
      },
      "execution_count": 12,
      "outputs": [
        {
          "output_type": "stream",
          "name": "stdout",
          "text": [
            "12\n",
            "8\n"
          ]
        }
      ]
    },
    {
      "cell_type": "markdown",
      "source": [
        "**Check object type**"
      ],
      "metadata": {
        "id": "qOgwTBl3-oBu"
      }
    },
    {
      "cell_type": "code",
      "source": [
        "print(type(array_2d))\n",
        "print(type(array_2d2))"
      ],
      "metadata": {
        "colab": {
          "base_uri": "https://localhost:8080/"
        },
        "id": "wIkSOTGQ-t5e",
        "outputId": "6fc250e5-5e11-4c29-ee1d-f65ea2a0d87f"
      },
      "execution_count": 13,
      "outputs": [
        {
          "output_type": "stream",
          "name": "stdout",
          "text": [
            "<class 'numpy.ndarray'>\n",
            "<class 'numpy.ndarray'>\n"
          ]
        }
      ]
    },
    {
      "cell_type": "markdown",
      "source": [
        "**Checking the data type of elements**"
      ],
      "metadata": {
        "id": "KwV4eS_K-ydy"
      }
    },
    {
      "cell_type": "code",
      "source": [
        "print(array_2d.dtype)\n",
        "print(array_2d2.dtype)"
      ],
      "metadata": {
        "colab": {
          "base_uri": "https://localhost:8080/"
        },
        "id": "65snI4b--25Z",
        "outputId": "e09bd594-446c-4ca1-878c-c1aee366e7c9"
      },
      "execution_count": 14,
      "outputs": [
        {
          "output_type": "stream",
          "name": "stdout",
          "text": [
            "<U21\n",
            "int64\n"
          ]
        }
      ]
    },
    {
      "cell_type": "markdown",
      "source": [
        "## **Rules For Every NumPy Array¶**\n",
        "\n",
        "There are two basic rules for every numpy array..\n",
        "\n",
        "*   Every element in the array must be of the same type and size.\n",
        "*   If an array's elements are also arrays, those inner arrays must have the same type and number of elements as each other. In other words, multidimensional arrays must be rectangular, not jagged.\n",
        "\n",
        "Numpy won't show error if you miss this, but it will create this messier, and you won't get the advantage of using array rather than lists.\n",
        "\n",
        "\n",
        "## **Numpy.zeros**\n",
        "\n",
        "**Creating zeroes**"
      ],
      "metadata": {
        "id": "1lH318K5--tc"
      }
    },
    {
      "cell_type": "code",
      "source": [
        "np.zeros(shape=3)"
      ],
      "metadata": {
        "colab": {
          "base_uri": "https://localhost:8080/"
        },
        "id": "sUkSYWB5_9lg",
        "outputId": "597d7973-d845-4d27-c336-5fd32ec7ff3d"
      },
      "execution_count": 15,
      "outputs": [
        {
          "output_type": "execute_result",
          "data": {
            "text/plain": [
              "array([0., 0., 0.])"
            ]
          },
          "metadata": {},
          "execution_count": 15
        }
      ]
    },
    {
      "cell_type": "markdown",
      "source": [
        "**Making Rectangular Arrays**"
      ],
      "metadata": {
        "id": "8uPKqqKDAbpw"
      }
    },
    {
      "cell_type": "code",
      "source": [
        "print(np.zeros(shape=(3,2)))\n",
        "print(np.zeros(shape=(3,2,4)))"
      ],
      "metadata": {
        "colab": {
          "base_uri": "https://localhost:8080/"
        },
        "id": "B3SA8OTDAf9T",
        "outputId": "f81e4ea9-0adc-42bd-bd04-c2732c109ae2"
      },
      "execution_count": 16,
      "outputs": [
        {
          "output_type": "stream",
          "name": "stdout",
          "text": [
            "[[0. 0.]\n",
            " [0. 0.]\n",
            " [0. 0.]]\n",
            "[[[0. 0. 0. 0.]\n",
            "  [0. 0. 0. 0.]]\n",
            "\n",
            " [[0. 0. 0. 0.]\n",
            "  [0. 0. 0. 0.]]\n",
            "\n",
            " [[0. 0. 0. 0.]\n",
            "  [0. 0. 0. 0.]]]\n"
          ]
        }
      ]
    },
    {
      "cell_type": "markdown",
      "source": [
        "**Filling Array with any value**\n",
        "\n",
        "Thing to note here! np.full is used! **shape** and **fill_value** are two parameter. These parameter keyword names are hard to memorize"
      ],
      "metadata": {
        "id": "92De52ZBBLMh"
      }
    },
    {
      "cell_type": "code",
      "source": [
        "print(np.full(shape=(3,5), fill_value=\"cat\"))\n",
        "print(np.full(shape=(6,16), fill_value=\"Ankon Loves You!\"))"
      ],
      "metadata": {
        "colab": {
          "base_uri": "https://localhost:8080/"
        },
        "id": "gOpc3Ez3BQ8G",
        "outputId": "f1e936f5-1839-4fb1-b1bd-2d5bde179519"
      },
      "execution_count": 20,
      "outputs": [
        {
          "output_type": "stream",
          "name": "stdout",
          "text": [
            "[['cat' 'cat' 'cat' 'cat' 'cat']\n",
            " ['cat' 'cat' 'cat' 'cat' 'cat']\n",
            " ['cat' 'cat' 'cat' 'cat' 'cat']]\n",
            "[['Ankon Loves You!' 'Ankon Loves You!' 'Ankon Loves You!'\n",
            "  'Ankon Loves You!' 'Ankon Loves You!' 'Ankon Loves You!'\n",
            "  'Ankon Loves You!' 'Ankon Loves You!' 'Ankon Loves You!'\n",
            "  'Ankon Loves You!' 'Ankon Loves You!' 'Ankon Loves You!'\n",
            "  'Ankon Loves You!' 'Ankon Loves You!' 'Ankon Loves You!'\n",
            "  'Ankon Loves You!']\n",
            " ['Ankon Loves You!' 'Ankon Loves You!' 'Ankon Loves You!'\n",
            "  'Ankon Loves You!' 'Ankon Loves You!' 'Ankon Loves You!'\n",
            "  'Ankon Loves You!' 'Ankon Loves You!' 'Ankon Loves You!'\n",
            "  'Ankon Loves You!' 'Ankon Loves You!' 'Ankon Loves You!'\n",
            "  'Ankon Loves You!' 'Ankon Loves You!' 'Ankon Loves You!'\n",
            "  'Ankon Loves You!']\n",
            " ['Ankon Loves You!' 'Ankon Loves You!' 'Ankon Loves You!'\n",
            "  'Ankon Loves You!' 'Ankon Loves You!' 'Ankon Loves You!'\n",
            "  'Ankon Loves You!' 'Ankon Loves You!' 'Ankon Loves You!'\n",
            "  'Ankon Loves You!' 'Ankon Loves You!' 'Ankon Loves You!'\n",
            "  'Ankon Loves You!' 'Ankon Loves You!' 'Ankon Loves You!'\n",
            "  'Ankon Loves You!']\n",
            " ['Ankon Loves You!' 'Ankon Loves You!' 'Ankon Loves You!'\n",
            "  'Ankon Loves You!' 'Ankon Loves You!' 'Ankon Loves You!'\n",
            "  'Ankon Loves You!' 'Ankon Loves You!' 'Ankon Loves You!'\n",
            "  'Ankon Loves You!' 'Ankon Loves You!' 'Ankon Loves You!'\n",
            "  'Ankon Loves You!' 'Ankon Loves You!' 'Ankon Loves You!'\n",
            "  'Ankon Loves You!']\n",
            " ['Ankon Loves You!' 'Ankon Loves You!' 'Ankon Loves You!'\n",
            "  'Ankon Loves You!' 'Ankon Loves You!' 'Ankon Loves You!'\n",
            "  'Ankon Loves You!' 'Ankon Loves You!' 'Ankon Loves You!'\n",
            "  'Ankon Loves You!' 'Ankon Loves You!' 'Ankon Loves You!'\n",
            "  'Ankon Loves You!' 'Ankon Loves You!' 'Ankon Loves You!'\n",
            "  'Ankon Loves You!']\n",
            " ['Ankon Loves You!' 'Ankon Loves You!' 'Ankon Loves You!'\n",
            "  'Ankon Loves You!' 'Ankon Loves You!' 'Ankon Loves You!'\n",
            "  'Ankon Loves You!' 'Ankon Loves You!' 'Ankon Loves You!'\n",
            "  'Ankon Loves You!' 'Ankon Loves You!' 'Ankon Loves You!'\n",
            "  'Ankon Loves You!' 'Ankon Loves You!' 'Ankon Loves You!'\n",
            "  'Ankon Loves You!']]\n"
          ]
        }
      ]
    },
    {
      "cell_type": "markdown",
      "source": [
        "**Making sequence array**\n",
        "\n",
        "**np.arange** is used. It is **arange**, not arrange. There are three parameters. **start**: The starting number of the sequence. **stop**: The ending number of the sequence, **step**=distance between sequence elements."
      ],
      "metadata": {
        "id": "I-oR500_-9Ux"
      }
    },
    {
      "cell_type": "code",
      "source": [
        "np.arange(start=1, stop=16, step=1.5)\n",
        "np.arange(start=1, stop=99, step=np.pi)"
      ],
      "metadata": {
        "colab": {
          "base_uri": "https://localhost:8080/"
        },
        "id": "cZ8u52Y9_Hab",
        "outputId": "6e558ccf-228a-4fe6-ea9b-8ab99433bfc5"
      },
      "execution_count": 22,
      "outputs": [
        {
          "output_type": "execute_result",
          "data": {
            "text/plain": [
              "array([ 1.        ,  4.14159265,  7.28318531, 10.42477796, 13.56637061,\n",
              "       16.70796327, 19.84955592, 22.99114858, 26.13274123, 29.27433388,\n",
              "       32.41592654, 35.55751919, 38.69911184, 41.8407045 , 44.98229715,\n",
              "       48.1238898 , 51.26548246, 54.40707511, 57.54866776, 60.69026042,\n",
              "       63.83185307, 66.97344573, 70.11503838, 73.25663103, 76.39822369,\n",
              "       79.53981634, 82.68140899, 85.82300165, 88.9645943 , 92.10618695,\n",
              "       95.24777961, 98.38937226])"
            ]
          },
          "metadata": {},
          "execution_count": 22
        }
      ]
    },
    {
      "cell_type": "markdown",
      "source": [
        "**Accessing *i*th element of array**"
      ],
      "metadata": {
        "id": "FSqkNfrk_seI"
      }
    },
    {
      "cell_type": "code",
      "source": [
        "print(array[2])"
      ],
      "metadata": {
        "colab": {
          "base_uri": "https://localhost:8080/"
        },
        "id": "07g5JFvP_1uq",
        "outputId": "20b3325d-2b68-439a-b99c-cf5d5e91b043"
      },
      "execution_count": 23,
      "outputs": [
        {
          "output_type": "stream",
          "name": "stdout",
          "text": [
            "30\n"
          ]
        }
      ]
    },
    {
      "cell_type": "markdown",
      "source": [
        "**Modifying i-th element**"
      ],
      "metadata": {
        "id": "Hb5XeCsq_5jC"
      }
    },
    {
      "cell_type": "code",
      "source": [
        "array[1]=90\n",
        "print(array)"
      ],
      "metadata": {
        "colab": {
          "base_uri": "https://localhost:8080/"
        },
        "id": "KwdCg4o5_--7",
        "outputId": "65eef6b4-7a95-4d53-cd40-77fe78d7ed9f"
      },
      "execution_count": 24,
      "outputs": [
        {
          "output_type": "stream",
          "name": "stdout",
          "text": [
            "[10 90 30 40]\n"
          ]
        }
      ]
    },
    {
      "cell_type": "markdown",
      "source": [
        "**Negative Indexing**"
      ],
      "metadata": {
        "id": "eJ8eHTbSADOj"
      }
    },
    {
      "cell_type": "code",
      "source": [
        "array[-2]"
      ],
      "metadata": {
        "colab": {
          "base_uri": "https://localhost:8080/"
        },
        "id": "FDx69tT_AHqa",
        "outputId": "e4bd0ad5-e9c8-42a8-8807-6f7dd56c4ef0"
      },
      "execution_count": 25,
      "outputs": [
        {
          "output_type": "execute_result",
          "data": {
            "text/plain": [
              "30"
            ]
          },
          "metadata": {},
          "execution_count": 25
        }
      ]
    },
    {
      "cell_type": "markdown",
      "source": [
        "**Accessing multiple elements**"
      ],
      "metadata": {
        "id": "8Wik6WAsALUr"
      }
    },
    {
      "cell_type": "code",
      "source": [
        "print(array[[0,1,-1,1,0]])"
      ],
      "metadata": {
        "colab": {
          "base_uri": "https://localhost:8080/"
        },
        "id": "TLOXkDeaGELf",
        "outputId": "c49580ce-a78e-445f-90ec-dc6a6e939e72"
      },
      "execution_count": 28,
      "outputs": [
        {
          "output_type": "stream",
          "name": "stdout",
          "text": [
            "[10 90 40 90 10]\n"
          ]
        }
      ]
    },
    {
      "cell_type": "code",
      "source": [
        "print(array[[0,2,0]])"
      ],
      "metadata": {
        "colab": {
          "base_uri": "https://localhost:8080/"
        },
        "id": "7vedh6x2GR68",
        "outputId": "09cf5932-aae8-44cc-c286-16c2f9f29424"
      },
      "execution_count": 30,
      "outputs": [
        {
          "output_type": "stream",
          "name": "stdout",
          "text": [
            "[10 30 10]\n"
          ]
        }
      ]
    },
    {
      "cell_type": "markdown",
      "source": [
        "Indices can be another numpy array!"
      ],
      "metadata": {
        "id": "qfWXrIcRGewk"
      }
    },
    {
      "cell_type": "code",
      "source": [
        "print(array[np.zeros(shape=3,dtype=\"int64\")])"
      ],
      "metadata": {
        "colab": {
          "base_uri": "https://localhost:8080/"
        },
        "id": "Yoc9GvxGGmKb",
        "outputId": "b09b2ff7-152a-46a8-d3d7-52b02d405854"
      },
      "execution_count": 31,
      "outputs": [
        {
          "output_type": "stream",
          "name": "stdout",
          "text": [
            "[10 10 10]\n"
          ]
        }
      ]
    },
    {
      "cell_type": "markdown",
      "source": [
        "**Array Slicing**"
      ],
      "metadata": {
        "id": "HjszX8ldHMmC"
      }
    },
    {
      "cell_type": "code",
      "source": [
        "print(array[:2])\n",
        "print(array[-2:])\n",
        "print(array[::2])\n",
        "print(array)\n",
        "print(array[::-1])\n",
        "arr=array[::-1]\n",
        "print(arr)"
      ],
      "metadata": {
        "colab": {
          "base_uri": "https://localhost:8080/"
        },
        "id": "xv5tA6kCHSYx",
        "outputId": "c2d11e0b-2ebf-4668-e182-a53bf45549de"
      },
      "execution_count": 37,
      "outputs": [
        {
          "output_type": "stream",
          "name": "stdout",
          "text": [
            "[10 90]\n",
            "[30 40]\n",
            "[10 30]\n",
            "[10 90 30 40]\n",
            "[40 30 90 10]\n",
            "[40 30 90 10]\n"
          ]
        }
      ]
    },
    {
      "cell_type": "markdown",
      "source": [
        "**Modifying multiple array elements**"
      ],
      "metadata": {
        "id": "I9nygiBeIryq"
      }
    },
    {
      "cell_type": "code",
      "source": [
        "array[[0,1,2]]=[15,87,-10]\n",
        "print(array)"
      ],
      "metadata": {
        "colab": {
          "base_uri": "https://localhost:8080/"
        },
        "id": "PfYw-sW7I5GK",
        "outputId": "2c73f032-32b7-42da-f6f8-39634c090bf8"
      },
      "execution_count": 39,
      "outputs": [
        {
          "output_type": "stream",
          "name": "stdout",
          "text": [
            "[ 15  87 -10  40]\n"
          ]
        }
      ]
    },
    {
      "cell_type": "markdown",
      "source": [
        "**2D Array**"
      ],
      "metadata": {
        "id": "-KS-6HK5JYS2"
      }
    },
    {
      "cell_type": "code",
      "source": [
        "array_2D=np.array([[10,20,30,40],[15,25,35,45],['-1','-2','-3','-4']])\n",
        "print(array_2D)"
      ],
      "metadata": {
        "colab": {
          "base_uri": "https://localhost:8080/"
        },
        "id": "X630iHoEJbMC",
        "outputId": "69ca8d49-3212-4287-8d9d-72df715c644d"
      },
      "execution_count": 40,
      "outputs": [
        {
          "output_type": "stream",
          "name": "stdout",
          "text": [
            "[['10' '20' '30' '40']\n",
            " ['15' '25' '35' '45']\n",
            " ['-1' '-2' '-3' '-4']]\n"
          ]
        }
      ]
    },
    {
      "cell_type": "markdown",
      "source": [
        "**Efficient value finding**\n",
        "\n",
        "The comma seperated elements are row and column element numbers (starting from 0). Slicing can be used, too, and then, ':' is used when there is exclusivity!"
      ],
      "metadata": {
        "id": "hnBPAVi2JmBW"
      }
    },
    {
      "cell_type": "code",
      "source": [
        "print(array_2D[1,2])\n",
        "print(array_2d[1,])\n",
        "print(array_2D[1:,2])\n",
        "print(array_2D[:2,:3])\n",
        "print(array_2D[0:3,-2:])\n",
        "print(array_2D[0,0])"
      ],
      "metadata": {
        "colab": {
          "base_uri": "https://localhost:8080/"
        },
        "id": "umnVFR5ZJps-",
        "outputId": "c45d25f0-e579-4507-c6e4-d8f77967dfbc"
      },
      "execution_count": 47,
      "outputs": [
        {
          "output_type": "stream",
          "name": "stdout",
          "text": [
            "35\n",
            "['15' '25' '35' '45']\n",
            "['35' '-3']\n",
            "[['10' '20' '30']\n",
            " ['15' '25' '35']]\n",
            "[['30' '40']\n",
            " ['35' '45']\n",
            " ['-3' '-4']]\n",
            "10\n"
          ]
        }
      ]
    },
    {
      "cell_type": "markdown",
      "source": [
        "**Inserting zeros on diagonal**"
      ],
      "metadata": {
        "id": "eFnNZwORLSj-"
      }
    },
    {
      "cell_type": "code",
      "source": [
        "array_2D[[0,1,2],[0,1,2]]=[0,0,0]\n",
        "print(array_2D)"
      ],
      "metadata": {
        "colab": {
          "base_uri": "https://localhost:8080/"
        },
        "id": "IeGhW2YfLWr8",
        "outputId": "8d54c0f7-edac-4c55-b33a-27b7d5eb2bcc"
      },
      "execution_count": 51,
      "outputs": [
        {
          "output_type": "stream",
          "name": "stdout",
          "text": [
            "[['0' '20' '30' '40']\n",
            " ['15' '0' '35' '45']\n",
            " ['-1' '-2' '0' '-4']]\n"
          ]
        }
      ]
    },
    {
      "cell_type": "markdown",
      "source": [
        "**Multidimensional Array**"
      ],
      "metadata": {
        "id": "l_SMDpmJNPuk"
      }
    },
    {
      "cell_type": "code",
      "source": [
        "zoo = np.array([\n",
        "    [\n",
        "        [10,20],\n",
        "        [30,40],\n",
        "        [50,60],\n",
        "    ],\n",
        "    [\n",
        "        [11,12],\n",
        "        [13,14],\n",
        "        [15,16],\n",
        "    ]\n",
        "])\n",
        "print(zoo)\n",
        "print(\"Divider-------------------------\")\n",
        "zoo[0,:,1] = 5\n",
        "print(zoo)"
      ],
      "metadata": {
        "colab": {
          "base_uri": "https://localhost:8080/"
        },
        "id": "YsCqfNCuM_8T",
        "outputId": "68aaf22a-68eb-4d62-8cbf-6a3c54bb6418"
      },
      "execution_count": 54,
      "outputs": [
        {
          "output_type": "stream",
          "name": "stdout",
          "text": [
            "[[[10 20]\n",
            "  [30 40]\n",
            "  [50 60]]\n",
            "\n",
            " [[11 12]\n",
            "  [13 14]\n",
            "  [15 16]]]\n",
            "Divider-------------------------\n",
            "[[[10  5]\n",
            "  [30  5]\n",
            "  [50  5]]\n",
            "\n",
            " [[11 12]\n",
            "  [13 14]\n",
            "  [15 16]]]\n"
          ]
        }
      ]
    },
    {
      "cell_type": "markdown",
      "source": [
        "## **Basic Math on Arrays**\n",
        "\n",
        "**Addition**\n",
        "\n",
        "Adds directly the corresponding elements\n",
        "Creates the missing dimension by copying"
      ],
      "metadata": {
        "id": "oanbG0XfNTki"
      }
    },
    {
      "cell_type": "code",
      "source": [
        "h1=np.array([[10,20],[30,10]])\n",
        "h2=np.array([[15,25],[35,15]])\n",
        "h3=np.array([[10,20]])\n",
        "print(h1+h2)\n",
        "print(h1+h3)"
      ],
      "metadata": {
        "colab": {
          "base_uri": "https://localhost:8080/"
        },
        "id": "ljGL8k4iNmVD",
        "outputId": "c39d0106-f69f-409c-f7c8-63180de51bb2"
      },
      "execution_count": 57,
      "outputs": [
        {
          "output_type": "stream",
          "name": "stdout",
          "text": [
            "[[25 45]\n",
            " [65 25]]\n",
            "[[20 40]\n",
            " [40 30]]\n"
          ]
        }
      ]
    },
    {
      "cell_type": "markdown",
      "source": [
        "**Substraction**"
      ],
      "metadata": {
        "id": "rHXAVMLXOPmW"
      }
    },
    {
      "cell_type": "code",
      "source": [
        "print(h1-h3)\n",
        "print(h1-h2)"
      ],
      "metadata": {
        "colab": {
          "base_uri": "https://localhost:8080/"
        },
        "id": "Pro0dhxWOSBs",
        "outputId": "58ae192f-17ca-4d70-9f81-5eba23e34ae7"
      },
      "execution_count": 58,
      "outputs": [
        {
          "output_type": "stream",
          "name": "stdout",
          "text": [
            "[[  0   0]\n",
            " [ 20 -10]]\n",
            "[[-5 -5]\n",
            " [-5 -5]]\n"
          ]
        }
      ]
    },
    {
      "cell_type": "markdown",
      "source": [
        "**Multiplication**\n",
        "\n",
        "This is not matrix multiplication, this is just multiplying corresponding elements."
      ],
      "metadata": {
        "id": "LPUa4VckOeyn"
      }
    },
    {
      "cell_type": "code",
      "source": [
        "print(h1*h3)\n",
        "print(h1*h2)\n",
        "print(h2*h3)"
      ],
      "metadata": {
        "colab": {
          "base_uri": "https://localhost:8080/"
        },
        "id": "us-bQ7o7OrWT",
        "outputId": "9c09e344-fe5b-472f-ef14-352c38ef93d3"
      },
      "execution_count": 59,
      "outputs": [
        {
          "output_type": "stream",
          "name": "stdout",
          "text": [
            "[[100 400]\n",
            " [300 200]]\n",
            "[[ 150  500]\n",
            " [1050  150]]\n",
            "[[150 500]\n",
            " [350 300]]\n"
          ]
        }
      ]
    },
    {
      "cell_type": "code",
      "source": [
        "print(h1/h2)\n",
        "print(h1/h3)"
      ],
      "metadata": {
        "colab": {
          "base_uri": "https://localhost:8080/"
        },
        "id": "kz5Jq_RrQGnI",
        "outputId": "5fc2aaa4-7061-4c4b-e317-7a72771a894e"
      },
      "execution_count": 60,
      "outputs": [
        {
          "output_type": "stream",
          "name": "stdout",
          "text": [
            "[[0.66666667 0.8       ]\n",
            " [0.85714286 0.66666667]]\n",
            "[[1.  1. ]\n",
            " [3.  0.5]]\n"
          ]
        }
      ]
    },
    {
      "cell_type": "markdown",
      "source": [
        "**Matrix Multiplication**"
      ],
      "metadata": {
        "id": "H9vOndAuQX2n"
      }
    },
    {
      "cell_type": "code",
      "source": [
        "print(h1@h2)\n",
        "h4=np.array([[10],[20]])\n",
        "print(h1@h4)"
      ],
      "metadata": {
        "colab": {
          "base_uri": "https://localhost:8080/"
        },
        "id": "_6Tg-PdBQbuV",
        "outputId": "4d506e57-473d-4b49-aa6e-55624cbb9c1b"
      },
      "execution_count": 62,
      "outputs": [
        {
          "output_type": "stream",
          "name": "stdout",
          "text": [
            "[[850 550]\n",
            " [800 900]]\n",
            "[[500]\n",
            " [500]]\n"
          ]
        }
      ]
    },
    {
      "cell_type": "markdown",
      "source": [
        "**Boradcasting Arithmetic**\n",
        "\n",
        "Here, every binary arithmetic operation takes effect on each element of the array!"
      ],
      "metadata": {
        "id": "P2qTKVlxQ85R"
      }
    },
    {
      "cell_type": "code",
      "source": [
        "print(h1+5-h2*3)"
      ],
      "metadata": {
        "colab": {
          "base_uri": "https://localhost:8080/"
        },
        "id": "CMKUKpWfRJv-",
        "outputId": "99313f4a-ac9b-45c2-8276-3c44f2417f04"
      },
      "execution_count": 63,
      "outputs": [
        {
          "output_type": "stream",
          "name": "stdout",
          "text": [
            "[[-30 -50]\n",
            " [-70 -30]]\n"
          ]
        }
      ]
    },
    {
      "cell_type": "markdown",
      "source": [
        "Nice! That was it. Done. Hurray."
      ],
      "metadata": {
        "id": "xFgdO4mqRPZl"
      }
    }
  ]
}