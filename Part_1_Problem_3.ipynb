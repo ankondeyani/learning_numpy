{
  "nbformat": 4,
  "nbformat_minor": 0,
  "metadata": {
    "colab": {
      "provenance": []
    },
    "kernelspec": {
      "name": "python3",
      "display_name": "Python 3"
    },
    "language_info": {
      "name": "python"
    }
  },
  "cells": [
    {
      "cell_type": "markdown",
      "source": [
        "[![PracticeProbs](https://d33wubrfki0l68.cloudfront.net/b6800cc830e3fd5a3a4c3d9cfb1137e6a4c15c77/ec467/assets/images/transparent-1.png)](https://www.practiceprobs.com/)"
      ],
      "metadata": {
        "id": "t1VEtnSjbu-d"
      }
    },
    {
      "cell_type": "markdown",
      "source": [
        "# [Gold Miner](https://www.practiceprobs.com/problemsets/python-numpy/beginner/gold-miner/)\n",
        "\n",
        "After binge watching the Discovery channel, you ditch your job as a trial lawyer to become a gold miner. You decide to prospect five locations underneath a 7x7 grid of land. How much gold do you uncover at each location?"
      ],
      "metadata": {
        "id": "M6yShpelZy-I"
      }
    },
    {
      "cell_type": "code",
      "source": [
        "import numpy as np\n",
        "\n",
        "np.random.seed(5555)\n",
        "gold = np.random.randint(low=0, high=10, size=(7,7))\n",
        "\n",
        "print(gold)\n",
        "# [[2 3 0 5 2 0 3]\n",
        "#  [8 8 0 7 1 5 3]\n",
        "#  [0 1 6 2 1 4 5]\n",
        "#  [4 0 8 9 9 8 7]\n",
        "#  [4 2 7 0 7 2 1]\n",
        "#  [9 8 9 2 5 0 8]\n",
        "#  [1 9 8 2 6 4 3]]\n",
        "\n",
        "locs = np.array([\n",
        "    [0,4],\n",
        "    [2,2],\n",
        "    [2,3],\n",
        "    [5,1],\n",
        "    [6,3]\n",
        "])"
      ],
      "metadata": {
        "colab": {
          "base_uri": "https://localhost:8080/"
        },
        "id": "ZlHN2R3QaPX3",
        "outputId": "808d808e-897d-4b2c-a948-37697b427fd7"
      },
      "execution_count": 1,
      "outputs": [
        {
          "output_type": "stream",
          "name": "stdout",
          "text": [
            "[[2 3 0 5 2 0 3]\n",
            " [8 8 0 7 1 5 3]\n",
            " [0 1 6 2 1 4 5]\n",
            " [4 0 8 9 9 8 7]\n",
            " [4 2 7 0 7 2 1]\n",
            " [9 8 9 2 5 0 8]\n",
            " [1 9 8 2 6 4 3]]\n"
          ]
        }
      ]
    },
    {
      "cell_type": "markdown",
      "source": [
        "**Notes**\n",
        "\n",
        "- `gold` states how much gold is under each location in the 7x7 grid of land\n",
        "- `locs` states the coordinates of the five locations where you dig\n"
      ],
      "metadata": {
        "id": "xsPF49EvaBAM"
      }
    },
    {
      "cell_type": "markdown",
      "source": [
        "---"
      ],
      "metadata": {
        "id": "h7D8d-J5cela"
      }
    },
    {
      "cell_type": "code",
      "source": [
        "print(sum(gold[locs[:,0], locs[:,1]]))"
      ],
      "metadata": {
        "id": "CWwTWfYCa4k0",
        "outputId": "5489af74-0062-48d7-fab2-6a42c11f94b9",
        "colab": {
          "base_uri": "https://localhost:8080/"
        }
      },
      "execution_count": 2,
      "outputs": [
        {
          "output_type": "stream",
          "name": "stdout",
          "text": [
            "20\n"
          ]
        }
      ]
    },
    {
      "cell_type": "markdown",
      "source": [
        "Some codes like `gold[locs]` or `gold[[locs]]` didn't work.\n",
        "\n",
        "This is also a nice thing to remember!"
      ],
      "metadata": {
        "id": "4_9h5wOqdeKB"
      }
    }
  ]
}