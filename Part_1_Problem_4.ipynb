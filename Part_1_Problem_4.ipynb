{
  "nbformat": 4,
  "nbformat_minor": 0,
  "metadata": {
    "colab": {
      "provenance": []
    },
    "kernelspec": {
      "name": "python3",
      "display_name": "Python 3"
    },
    "language_info": {
      "name": "python"
    }
  },
  "cells": [
    {
      "cell_type": "markdown",
      "source": [
        "# [Roux](https://www.practiceprobs.com/problemsets/python-numpy/beginner/roux/)\n",
        "\n",
        "Define a *roux* array as a 1-D array such that, when it's reversed, it represents the sequence of square numbers 1, 4, 9, 16, ... with 0s interwoven between them.\n",
        "\n",
        "**Examples**  \n",
        "\n",
        "```\n",
        "# roux array of length 5\n",
        "[9 0 4 0 1]\n",
        "```\n",
        "\n",
        "```\n",
        "# roux array of length 8\n",
        "[ 0 16  0  9  0  4  0  1]\n",
        "```\n",
        "\n",
        "```\n",
        "# roux array of length 12\n",
        "[ 0 36  0 25  0 16  0  9  0  4  0  1]\n",
        "```\n",
        "\n",
        "**Note**: odd-length arrays begin with a square number while even-length arrays begin with a zero.\n",
        "\n",
        "Implement a function called `make_roux(n)` that inputs `n`, the desired size of the array, and outputs the corresponding roux array. Then test it on the examples above."
      ],
      "metadata": {
        "id": "M6yShpelZy-I"
      }
    },
    {
      "cell_type": "markdown",
      "source": [
        "---"
      ],
      "metadata": {
        "id": "h7D8d-J5cela"
      }
    },
    {
      "cell_type": "code",
      "source": [
        "import numpy as np\n",
        "def make_roux(n):\n",
        "    arr=np.zeros(shape=n)\n",
        "    x=1\n",
        "    for i in range(n):\n",
        "        if (i+1)%2!=0:\n",
        "            arr[i]=x**2\n",
        "            x+=1\n",
        "    return arr[::-1]\n",
        "print(make_roux(5))\n",
        "print(make_roux(8))\n",
        "print(make_roux(12))\n"
      ],
      "metadata": {
        "id": "CWwTWfYCa4k0",
        "outputId": "e3807298-a4d1-4a81-b8a6-a64aedd1d931",
        "colab": {
          "base_uri": "https://localhost:8080/"
        }
      },
      "execution_count": 1,
      "outputs": [
        {
          "output_type": "stream",
          "name": "stdout",
          "text": [
            "[9. 0. 4. 0. 1.]\n",
            "[ 0. 16.  0.  9.  0.  4.  0.  1.]\n",
            "[ 0. 36.  0. 25.  0. 16.  0.  9.  0.  4.  0.  1.]\n"
          ]
        }
      ]
    },
    {
      "cell_type": "markdown",
      "source": [
        "**Numpy heavy solution!**"
      ],
      "metadata": {
        "id": "5zxcM91gkwcA"
      }
    },
    {
      "cell_type": "code",
      "source": [
        "def make_roux1(n):\n",
        "    \"\"\"returns a roux array of length n\"\"\"\n",
        "\n",
        "    roux = np.zeros(shape=(n,), dtype='int64')\n",
        "    nsquares = np.ceil(len(roux) / 2)\n",
        "    squares = (1 + np.arange(nsquares)) ** 2\n",
        "    roux[::-2] = squares\n",
        "\n",
        "    return roux\n",
        "\n",
        "print(make_roux1(5))\n",
        "print(make_roux1(8))\n",
        "print(make_roux1(12))"
      ],
      "metadata": {
        "id": "Hl8P7JcbkvRa",
        "outputId": "a8c9d156-338a-45a9-d2a2-8d6be54978ab",
        "colab": {
          "base_uri": "https://localhost:8080/"
        }
      },
      "execution_count": 2,
      "outputs": [
        {
          "output_type": "stream",
          "name": "stdout",
          "text": [
            "[9 0 4 0 1]\n",
            "[ 0 16  0  9  0  4  0  1]\n",
            "[ 0 36  0 25  0 16  0  9  0  4  0  1]\n"
          ]
        }
      ]
    }
  ]
}