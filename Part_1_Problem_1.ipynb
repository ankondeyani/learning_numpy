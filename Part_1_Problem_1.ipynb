{
  "nbformat": 4,
  "nbformat_minor": 0,
  "metadata": {
    "colab": {
      "provenance": []
    },
    "kernelspec": {
      "name": "python3",
      "display_name": "Python 3"
    },
    "language_info": {
      "name": "python"
    }
  },
  "cells": [
    {
      "cell_type": "markdown",
      "source": [
        "[![PracticeProbs](https://d33wubrfki0l68.cloudfront.net/b6800cc830e3fd5a3a4c3d9cfb1137e6a4c15c77/ec467/assets/images/transparent-1.png)](https://www.practiceprobs.com/)"
      ],
      "metadata": {
        "id": "t1VEtnSjbu-d"
      }
    },
    {
      "cell_type": "markdown",
      "source": [
        "# [High School Reunion](https://www.practiceprobs.com/problemsets/python-numpy/beginner/high-school-reunion/)\n",
        "\n",
        "With your high school reunion fast approaching, you decide to get in shape and lose some weight . You record your weight every day for five weeks starting on a Monday.Given these daily weights, build an array with your average weight per weekend. A weekend includes Saturday and Sunday (but not Friday)."
      ],
      "metadata": {
        "id": "M6yShpelZy-I"
      }
    },
    {
      "cell_type": "code",
      "source": [
        "import numpy as np\n",
        "\n",
        "dailywts = 185 - np.arange(5*7)/5\n",
        "\n",
        "print(dailywts)\n",
        "# [185.  184.8 184.6 184.4 184.2 184.  183.8 183.6 183.4 183.2 183.  182.8\n",
        "#  182.6 182.4 182.2 182.  181.8 181.6 181.4 181.2 181.  180.8 180.6 180.4\n",
        "#  180.2 180.  179.8 179.6 179.4 179.2 179.  178.8 178.6 178.4 178.2]"
      ],
      "metadata": {
        "id": "ZlHN2R3QaPX3",
        "colab": {
          "base_uri": "https://localhost:8080/"
        },
        "outputId": "4cd03e16-ba99-46b9-b501-30e0bb757e71"
      },
      "execution_count": 2,
      "outputs": [
        {
          "output_type": "stream",
          "name": "stdout",
          "text": [
            "[185.  184.8 184.6 184.4 184.2 184.  183.8 183.6 183.4 183.2 183.  182.8\n",
            " 182.6 182.4 182.2 182.  181.8 181.6 181.4 181.2 181.  180.8 180.6 180.4\n",
            " 180.2 180.  179.8 179.6 179.4 179.2 179.  178.8 178.6 178.4 178.2]\n"
          ]
        }
      ]
    },
    {
      "cell_type": "markdown",
      "source": [
        "---"
      ],
      "metadata": {
        "id": "h7D8d-J5cela"
      }
    },
    {
      "cell_type": "code",
      "source": [
        "# Taking the weight records of 6th and 7th day, by using slicing, which means start, stop, step. Nice and neat!\n",
        " (dailywts[5::7] + dailywts[6::7])/2"
      ],
      "metadata": {
        "id": "CWwTWfYCa4k0",
        "colab": {
          "base_uri": "https://localhost:8080/"
        },
        "outputId": "debb11e7-1f8b-4732-de21-eb5d476b10f1"
      },
      "execution_count": 3,
      "outputs": [
        {
          "output_type": "execute_result",
          "data": {
            "text/plain": [
              "array([183.9, 182.5, 181.1, 179.7, 178.3])"
            ]
          },
          "metadata": {},
          "execution_count": 3
        }
      ]
    }
  ]
}